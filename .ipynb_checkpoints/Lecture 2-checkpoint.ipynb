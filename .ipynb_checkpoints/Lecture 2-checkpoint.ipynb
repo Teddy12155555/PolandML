{
 "cells": [
  {
   "cell_type": "markdown",
   "metadata": {},
   "source": [
    "# Seminar ...\n",
    "If you have no pendrive send me an email before 6:30 in friday."
   ]
  },
  {
   "cell_type": "code",
   "execution_count": 1,
   "metadata": {},
   "outputs": [
    {
     "name": "stdout",
     "output_type": "stream",
     "text": [
      "59.8 ns ± 5.04 ns per loop (mean ± std. dev. of 7 runs, 10000000 loops each)\n"
     ]
    }
   ],
   "source": [
    "%%timeit\n",
    "x=11"
   ]
  },
  {
   "cell_type": "code",
   "execution_count": 4,
   "metadata": {},
   "outputs": [
    {
     "name": "stdout",
     "output_type": "stream",
     "text": [
      "223 µs ± 53.3 µs per loop (mean ± std. dev. of 7 runs, 1000 loops each)\n"
     ]
    }
   ],
   "source": [
    "%%timeit\n",
    "x=[]\n",
    "for i in range(100):\n",
    "    x.append(i**3)"
   ]
  },
  {
   "cell_type": "code",
   "execution_count": 5,
   "metadata": {},
   "outputs": [
    {
     "name": "stdout",
     "output_type": "stream",
     "text": [
      "151 µs ± 8.16 µs per loop (mean ± std. dev. of 7 runs, 10000 loops each)\n"
     ]
    }
   ],
   "source": [
    "%%timeit\n",
    "x=[i**3 for i in range(100)]"
   ]
  },
  {
   "cell_type": "markdown",
   "metadata": {},
   "source": [
    "# numpy"
   ]
  },
  {
   "cell_type": "code",
   "execution_count": 8,
   "metadata": {},
   "outputs": [],
   "source": [
    "import numpy as np"
   ]
  },
  {
   "cell_type": "markdown",
   "metadata": {},
   "source": [
    "## random variables"
   ]
  },
  {
   "cell_type": "markdown",
   "metadata": {},
   "source": [
    "numbers from [0,1)"
   ]
  },
  {
   "cell_type": "code",
   "execution_count": 9,
   "metadata": {},
   "outputs": [
    {
     "name": "stdout",
     "output_type": "stream",
     "text": [
      "0.11895179510254494\n"
     ]
    }
   ],
   "source": [
    "x=np.random.rand()\n",
    "print(x)"
   ]
  },
  {
   "cell_type": "code",
   "execution_count": 10,
   "metadata": {},
   "outputs": [
    {
     "name": "stdout",
     "output_type": "stream",
     "text": [
      "Help on built-in function rand:\n",
      "\n",
      "rand(...) method of mtrand.RandomState instance\n",
      "    rand(d0, d1, ..., dn)\n",
      "    \n",
      "    Random values in a given shape.\n",
      "    \n",
      "    Create an array of the given shape and populate it with\n",
      "    random samples from a uniform distribution\n",
      "    over ``[0, 1)``.\n",
      "    \n",
      "    Parameters\n",
      "    ----------\n",
      "    d0, d1, ..., dn : int, optional\n",
      "        The dimensions of the returned array, should all be positive.\n",
      "        If no argument is given a single Python float is returned.\n",
      "    \n",
      "    Returns\n",
      "    -------\n",
      "    out : ndarray, shape ``(d0, d1, ..., dn)``\n",
      "        Random values.\n",
      "    \n",
      "    See Also\n",
      "    --------\n",
      "    random\n",
      "    \n",
      "    Notes\n",
      "    -----\n",
      "    This is a convenience function. If you want an interface that\n",
      "    takes a shape-tuple as the first argument, refer to\n",
      "    np.random.random_sample .\n",
      "    \n",
      "    Examples\n",
      "    --------\n",
      "    >>> np.random.rand(3,2)\n",
      "    array([[ 0.14022471,  0.96360618],  #random\n",
      "           [ 0.37601032,  0.25528411],  #random\n",
      "           [ 0.49313049,  0.94909878]]) #random\n",
      "\n"
     ]
    }
   ],
   "source": [
    "help(np.random.rand)"
   ]
  },
  {
   "cell_type": "code",
   "execution_count": 14,
   "metadata": {},
   "outputs": [
    {
     "data": {
      "text/plain": [
       "array([1.84470301, 2.21437594, 4.78891804, 5.19495443, 1.0509435 ,\n",
       "       3.36512225, 6.93472742, 2.54625092, 1.67152878, 3.87736251])"
      ]
     },
     "execution_count": 14,
     "metadata": {},
     "output_type": "execute_result"
    }
   ],
   "source": [
    "(np.random.rand(10)*6+1)"
   ]
  },
  {
   "cell_type": "code",
   "execution_count": 15,
   "metadata": {},
   "outputs": [],
   "source": [
    "i=np.random.rand(1,100)"
   ]
  },
  {
   "cell_type": "code",
   "execution_count": 16,
   "metadata": {},
   "outputs": [
    {
     "data": {
      "text/plain": [
       "numpy.ndarray"
      ]
     },
     "execution_count": 16,
     "metadata": {},
     "output_type": "execute_result"
    }
   ],
   "source": [
    "type(i)"
   ]
  },
  {
   "cell_type": "code",
   "execution_count": 17,
   "metadata": {},
   "outputs": [
    {
     "data": {
      "text/plain": [
       "range"
      ]
     },
     "execution_count": 17,
     "metadata": {},
     "output_type": "execute_result"
    }
   ],
   "source": [
    "x=range(-6,6,1)\n",
    "type(x)"
   ]
  },
  {
   "cell_type": "code",
   "execution_count": 20,
   "metadata": {},
   "outputs": [
    {
     "name": "stdout",
     "output_type": "stream",
     "text": [
      "[ 0.2794155   0.95892427  0.7568025  -0.14112001 -0.90929743 -0.84147098\n",
      "  0.          0.84147098  0.90929743  0.14112001 -0.7568025  -0.95892427\n",
      " -0.2794155 ]\n"
     ]
    },
    {
     "data": {
      "text/plain": [
       "numpy.ndarray"
      ]
     },
     "execution_count": 20,
     "metadata": {},
     "output_type": "execute_result"
    }
   ],
   "source": [
    "y=np.sin(x)\n",
    "print(y)\n",
    "type(y)"
   ]
  },
  {
   "cell_type": "code",
   "execution_count": 21,
   "metadata": {},
   "outputs": [
    {
     "data": {
      "text/plain": [
       "list"
      ]
     },
     "execution_count": 21,
     "metadata": {},
     "output_type": "execute_result"
    }
   ],
   "source": [
    "x=[-6,-5,-4,-3,-2,-1,0,1,2,3,4,5,6]\n",
    "type(x)"
   ]
  },
  {
   "cell_type": "code",
   "execution_count": null,
   "metadata": {},
   "outputs": [],
   "source": []
  },
  {
   "cell_type": "code",
   "execution_count": 22,
   "metadata": {},
   "outputs": [
    {
     "data": {
      "text/plain": [
       "numpy.ndarray"
      ]
     },
     "execution_count": 22,
     "metadata": {},
     "output_type": "execute_result"
    }
   ],
   "source": [
    "x=np.array(x)\n",
    "type(x)"
   ]
  },
  {
   "cell_type": "code",
   "execution_count": 25,
   "metadata": {},
   "outputs": [
    {
     "name": "stdout",
     "output_type": "stream",
     "text": [
      "[1, 2, 3, 1, 2, 3]\n",
      "[3 5 7]\n"
     ]
    }
   ],
   "source": [
    "z=[1,2,3]\n",
    "print(2*z)\n",
    "z=np.array(z)\n",
    "print(2*z+1)"
   ]
  },
  {
   "cell_type": "code",
   "execution_count": 26,
   "metadata": {},
   "outputs": [
    {
     "name": "stdout",
     "output_type": "stream",
     "text": [
      "['1' '2' 'three']\n"
     ]
    }
   ],
   "source": [
    "zz=np.array([1,2,'three'])\n",
    "print(zz)"
   ]
  },
  {
   "cell_type": "code",
   "execution_count": 35,
   "metadata": {},
   "outputs": [
    {
     "name": "stdout",
     "output_type": "stream",
     "text": [
      "[[1 2 3]\n",
      " [4 5 6]\n",
      " [7 8 5]\n",
      " [7 8 5]]\n"
     ]
    }
   ],
   "source": [
    "zz=np.array([[1,2,3],[4,5,6],[7,8,5],[7,8,5]])\n",
    "print(zz)"
   ]
  },
  {
   "cell_type": "code",
   "execution_count": 28,
   "metadata": {},
   "outputs": [
    {
     "name": "stdout",
     "output_type": "stream",
     "text": [
      "[1 2 3]\n"
     ]
    }
   ],
   "source": [
    "print(zz[0])"
   ]
  },
  {
   "cell_type": "code",
   "execution_count": 30,
   "metadata": {},
   "outputs": [
    {
     "name": "stdout",
     "output_type": "stream",
     "text": [
      "2\n"
     ]
    }
   ],
   "source": [
    "print(zz[0,1])"
   ]
  },
  {
   "cell_type": "code",
   "execution_count": 32,
   "metadata": {},
   "outputs": [
    {
     "name": "stdout",
     "output_type": "stream",
     "text": [
      "2\n"
     ]
    }
   ],
   "source": [
    "print(zz[0][1])"
   ]
  },
  {
   "cell_type": "code",
   "execution_count": 36,
   "metadata": {},
   "outputs": [
    {
     "name": "stdout",
     "output_type": "stream",
     "text": [
      "[2 5]\n"
     ]
    }
   ],
   "source": [
    "print(zz[0:2,1])"
   ]
  },
  {
   "cell_type": "code",
   "execution_count": 37,
   "metadata": {},
   "outputs": [
    {
     "name": "stdout",
     "output_type": "stream",
     "text": [
      "<class 'numpy.ndarray'>\n"
     ]
    },
    {
     "data": {
      "text/plain": [
       "(4, 3)"
      ]
     },
     "execution_count": 37,
     "metadata": {},
     "output_type": "execute_result"
    }
   ],
   "source": [
    "print(type(zz))\n",
    "zz.shape"
   ]
  },
  {
   "cell_type": "code",
   "execution_count": 41,
   "metadata": {},
   "outputs": [
    {
     "data": {
      "text/plain": [
       "array([[1, 2, 3, 4, 5, 6],\n",
       "       [7, 8, 5, 7, 8, 5]])"
      ]
     },
     "execution_count": 41,
     "metadata": {},
     "output_type": "execute_result"
    }
   ],
   "source": [
    "zz.reshape(2,6)"
   ]
  },
  {
   "cell_type": "code",
   "execution_count": 42,
   "metadata": {},
   "outputs": [
    {
     "data": {
      "text/plain": [
       "array([[1, 2, 3],\n",
       "       [4, 5, 6],\n",
       "       [7, 8, 5],\n",
       "       [7, 8, 5]])"
      ]
     },
     "execution_count": 42,
     "metadata": {},
     "output_type": "execute_result"
    }
   ],
   "source": [
    "zz"
   ]
  },
  {
   "cell_type": "code",
   "execution_count": 43,
   "metadata": {},
   "outputs": [
    {
     "data": {
      "text/plain": [
       "array([[ True,  True,  True],\n",
       "       [ True, False, False],\n",
       "       [False, False, False],\n",
       "       [False, False, False]])"
      ]
     },
     "execution_count": 43,
     "metadata": {},
     "output_type": "execute_result"
    }
   ],
   "source": [
    "zz<5"
   ]
  },
  {
   "cell_type": "code",
   "execution_count": 44,
   "metadata": {},
   "outputs": [
    {
     "data": {
      "text/plain": [
       "array([[False,  True, False],\n",
       "       [ True, False,  True],\n",
       "       [False,  True, False],\n",
       "       [False,  True, False]])"
      ]
     },
     "execution_count": 44,
     "metadata": {},
     "output_type": "execute_result"
    }
   ],
   "source": [
    "zz%2==0"
   ]
  },
  {
   "cell_type": "code",
   "execution_count": 45,
   "metadata": {},
   "outputs": [
    {
     "data": {
      "text/plain": [
       "array([2, 4, 6, 8, 8])"
      ]
     },
     "execution_count": 45,
     "metadata": {},
     "output_type": "execute_result"
    }
   ],
   "source": [
    "zz[zz%2==0]"
   ]
  },
  {
   "cell_type": "markdown",
   "metadata": {},
   "source": [
    "## math"
   ]
  },
  {
   "cell_type": "markdown",
   "metadata": {},
   "source": [
    "### np.sin, np.cos, np.tan, np.sqrt,..."
   ]
  },
  {
   "cell_type": "markdown",
   "metadata": {},
   "source": [
    "## choosing random part of sample to subset (subsample)"
   ]
  },
  {
   "cell_type": "code",
   "execution_count": 62,
   "metadata": {},
   "outputs": [
    {
     "name": "stdout",
     "output_type": "stream",
     "text": [
      "(2, 126)\n",
      "126\n",
      "(2, 40) ,  (2, 86)\n"
     ]
    }
   ],
   "source": [
    "# create sample:\n",
    "x=np.arange(-np.pi*2,np.pi*2,0.1)\n",
    "y=np.sin(x)\n",
    "Sample=np.array([x,y])\n",
    "print(Sample.shape)\n",
    "n=len(y)\n",
    "print(len(y))\n",
    "# let take 1/3 of sample to TestSet and other 2/3 to LearnSet \n",
    "idx=np.random.rand(n)<1/3\n",
    "##print(idx)\n",
    "TestSet=Sample[:,idx]\n",
    "LearnSet=Sample[:,idx==False]\n",
    "print(TestSet.shape,\", \",LearnSet.shape)\n"
   ]
  },
  {
   "cell_type": "code",
   "execution_count": 54,
   "metadata": {},
   "outputs": [
    {
     "name": "stdout",
     "output_type": "stream",
     "text": [
      "[-6.28318531 -4.88692191 -3.4906585  -2.0943951  -0.6981317   0.6981317\n",
      "  2.0943951   3.4906585   4.88692191  6.28318531]\n"
     ]
    }
   ],
   "source": [
    "x=np.linspace(-np.pi*2,np.pi*2,10)\n",
    "print(x)"
   ]
  },
  {
   "cell_type": "markdown",
   "metadata": {},
   "source": [
    "## More: see <a href=\"https://www.numpy.org/\">https://www.numpy.org/</a>\n",
    "<hr>"
   ]
  },
  {
   "cell_type": "markdown",
   "metadata": {},
   "source": [
    "# matplotlib"
   ]
  },
  {
   "cell_type": "code",
   "execution_count": 64,
   "metadata": {},
   "outputs": [
    {
     "data": {
      "image/png": "[encoded data removed]",
      "text/plain": [
       "<Figure size 432x288 with 1 Axes>"
      ]
     },
     "metadata": {
      "needs_background": "light"
     },
     "output_type": "display_data"
    }
   ],
   "source": [
    "import matplotlib.pyplot as plt\n",
    "plt.plot(x,y)\n",
    "plt.plot(TestSet[0,:],TestSet[1,:],'ro')\n",
    "plt.plot(LearnSet[0,:],LearnSet[1,:],'bd')\n",
    "plt.show()\n"
   ]
  },
  {
   "cell_type": "code",
   "execution_count": 100,
   "metadata": {},
   "outputs": [
    {
     "name": "stdout",
     "output_type": "stream",
     "text": [
      "Help on function scatter in module matplotlib.pyplot:\n",
      "\n",
      "scatter(x, y, s=None, c=None, marker=None, cmap=None, norm=None, vmin=None, vmax=None, alpha=None, linewidths=None, verts=None, edgecolors=None, *, data=None, **kwargs)\n",
      "    A scatter plot of *y* vs *x* with varying marker size and/or color.\n",
      "    \n",
      "    Parameters\n",
      "    ----------\n",
      "    x, y : array_like, shape (n, )\n",
      "        The data positions.\n",
      "    \n",
      "    s : scalar or array_like, shape (n, ), optional\n",
      "        The marker size in points**2.\n",
      "        Default is ``rcParams['lines.markersize'] ** 2``.\n",
      "    \n",
      "    c : color, sequence, or sequence of color, optional\n",
      "        The marker color. Possible values:\n",
      "    \n",
      "        - A single color format string.\n",
      "        - A sequence of color specifications of length n.\n",
      "        - A sequence of n numbers to be mapped to colors using *cmap* and\n",
      "          *norm*.\n",
      "        - A 2-D array in which the rows are RGB or RGBA.\n",
      "    \n",
      "        Note that *c* should not be a single numeric RGB or RGBA sequence\n",
      "        because that is indistinguishable from an array of values to be\n",
      "        colormapped. If you want to specify the same RGB or RGBA value for\n",
      "        all points, use a 2-D array with a single row.  Otherwise, value-\n",
      "        matching will have precedence in case of a size matching with *x*\n",
      "        and *y*.\n",
      "    \n",
      "        Defaults to ``None``. In that case the marker color is determined\n",
      "        by the value of ``color``, ``facecolor`` or ``facecolors``. In case\n",
      "        those are not specified or ``None``, the marker color is determined\n",
      "        by the next color of the ``Axes``' current \"shape and fill\" color\n",
      "        cycle. This cycle defaults to :rc:`axes.prop_cycle`.\n",
      "    \n",
      "    marker : `~matplotlib.markers.MarkerStyle`, optional\n",
      "        The marker style. *marker* can be either an instance of the class\n",
      "        or the text shorthand for a particular marker.\n",
      "        Defaults to ``None``, in which case it takes the value of\n",
      "        :rc:`scatter.marker` = 'o'.\n",
      "        See `~matplotlib.markers` for more information about marker styles.\n",
      "    \n",
      "    cmap : `~matplotlib.colors.Colormap`, optional, default: None\n",
      "        A `.Colormap` instance or registered colormap name. *cmap* is only\n",
      "        used if *c* is an array of floats. If ``None``, defaults to rc\n",
      "        ``image.cmap``.\n",
      "    \n",
      "    norm : `~matplotlib.colors.Normalize`, optional, default: None\n",
      "        A `.Normalize` instance is used to scale luminance data to 0, 1.\n",
      "        *norm* is only used if *c* is an array of floats. If *None*, use\n",
      "        the default `.colors.Normalize`.\n",
      "    \n",
      "    vmin, vmax : scalar, optional, default: None\n",
      "        *vmin* and *vmax* are used in conjunction with *norm* to normalize\n",
      "        luminance data. If None, the respective min and max of the color\n",
      "        array is used. *vmin* and *vmax* are ignored if you pass a *norm*\n",
      "        instance.\n",
      "    \n",
      "    alpha : scalar, optional, default: None\n",
      "        The alpha blending value, between 0 (transparent) and 1 (opaque).\n",
      "    \n",
      "    linewidths : scalar or array_like, optional, default: None\n",
      "        The linewidth of the marker edges. Note: The default *edgecolors*\n",
      "        is 'face'. You may want to change this as well.\n",
      "        If *None*, defaults to rcParams ``lines.linewidth``.\n",
      "    \n",
      "    edgecolors : color or sequence of color, optional, default: 'face'\n",
      "        The edge color of the marker. Possible values:\n",
      "    \n",
      "        - 'face': The edge color will always be the same as the face color.\n",
      "        - 'none': No patch boundary will be drawn.\n",
      "        - A matplotib color.\n",
      "    \n",
      "        For non-filled markers, the *edgecolors* kwarg is ignored and\n",
      "        forced to 'face' internally.\n",
      "    \n",
      "    Returns\n",
      "    -------\n",
      "    paths : `~matplotlib.collections.PathCollection`\n",
      "    \n",
      "    Other Parameters\n",
      "    ----------------\n",
      "    **kwargs : `~matplotlib.collections.Collection` properties\n",
      "    \n",
      "    See Also\n",
      "    --------\n",
      "    plot : To plot scatter plots when markers are identical in size and\n",
      "        color.\n",
      "    \n",
      "    Notes\n",
      "    -----\n",
      "    \n",
      "    * The `.plot` function will be faster for scatterplots where markers\n",
      "      don't vary in size or color.\n",
      "    \n",
      "    * Any or all of *x*, *y*, *s*, and *c* may be masked arrays, in which\n",
      "      case all masks will be combined and only unmasked points will be\n",
      "      plotted.\n",
      "    \n",
      "    * Fundamentally, scatter works with 1-D arrays; *x*, *y*, *s*, and *c*\n",
      "      may be input as 2-D arrays, but within scatter they will be\n",
      "      flattened. The exception is *c*, which will be flattened only if its\n",
      "      size matches the size of *x* and *y*.\n",
      "    \n",
      "    .. note::\n",
      "        In addition to the above described arguments, this function can take a\n",
      "        **data** keyword argument. If such a **data** argument is given, the\n",
      "        following arguments are replaced by **data[<arg>]**:\n",
      "    \n",
      "        * All arguments with the following names: 'c', 'color', 'edgecolors', 'facecolor', 'facecolors', 'linewidths', 's', 'x', 'y'.\n",
      "    \n",
      "        Objects passed as **data** must support item access (``data[<arg>]``) and\n",
      "        membership test (``<arg> in data``).\n",
      "\n"
     ]
    }
   ],
   "source": [
    "help(plt.scatter)"
   ]
  },
  {
   "cell_type": "code",
   "execution_count": 65,
   "metadata": {},
   "outputs": [
    {
     "data": {
      "image/png": "[encoded data removed]",
      "text/plain": [
       "<Figure size 432x288 with 1 Axes>"
      ]
     },
     "metadata": {
      "needs_background": "light"
     },
     "output_type": "display_data"
    }
   ],
   "source": [
    "plt.scatter(x,y,c=idx)\n",
    "plt.show()"
   ]
  },
  {
   "cell_type": "code",
   "execution_count": 233,
   "metadata": {},
   "outputs": [],
   "source": [
    "# we will do it better later ;)\n",
    "Temperature=np.genfromtxt('temperature-24-hours.csv',delimiter=';')"
   ]
  },
  {
   "cell_type": "code",
   "execution_count": 112,
   "metadata": {},
   "outputs": [
    {
     "data": {
      "text/plain": [
       "array([[nan, nan],\n",
       "       [nan, 2.6],\n",
       "       [nan, 2.6],\n",
       "       [nan, 2.6],\n",
       "       [nan, 2.6],\n",
       "       [nan, 2.5],\n",
       "       [nan, 2.4],\n",
       "       [nan, 2.4],\n",
       "       [nan, 2.4],\n",
       "       [nan, 2.4],\n",
       "       [nan, 2.4],\n",
       "       [nan, 2.3],\n",
       "       [nan, 2.2],\n",
       "       [nan, 2.3],\n",
       "       [nan, 2.3],\n",
       "       [nan, 2.2],\n",
       "       [nan, 2.2],\n",
       "       [nan, 2.2],\n",
       "       [nan, 2.2],\n",
       "       [nan, 2.2],\n",
       "       [nan, 2.2],\n",
       "       [nan, 2.3],\n",
       "       [nan, 2.2],\n",
       "       [nan, 2.1],\n",
       "       [nan, 2.1],\n",
       "       [nan, 2.2],\n",
       "       [nan, 2.2],\n",
       "       [nan, 2.3],\n",
       "       [nan, 2.3],\n",
       "       [nan, 2.2],\n",
       "       [nan, 2.1],\n",
       "       [nan, 2.2],\n",
       "       [nan, 2.2],\n",
       "       [nan, 2.3],\n",
       "       [nan, 2.3],\n",
       "       [nan, 2.4],\n",
       "       [nan, 2.3],\n",
       "       [nan, 2.3],\n",
       "       [nan, 2.3],\n",
       "       [nan, 2.2],\n",
       "       [nan, 2.3],\n",
       "       [nan, 2.4],\n",
       "       [nan, 2.4],\n",
       "       [nan, 2.5],\n",
       "       [nan, 2.6],\n",
       "       [nan, 2.6],\n",
       "       [nan, 2.5],\n",
       "       [nan, 2.6],\n",
       "       [nan, 2.6],\n",
       "       [nan, 2.6],\n",
       "       [nan, 2.6],\n",
       "       [nan, 2.6],\n",
       "       [nan, 2.4],\n",
       "       [nan, 2.1],\n",
       "       [nan, 1.9],\n",
       "       [nan, 1.8],\n",
       "       [nan, 1.7],\n",
       "       [nan, 1.6],\n",
       "       [nan, 1.6],\n",
       "       [nan, 1.5],\n",
       "       [nan, 1.4],\n",
       "       [nan, 1.4],\n",
       "       [nan, 1.4],\n",
       "       [nan, 1.5],\n",
       "       [nan, 1.4],\n",
       "       [nan, 1.4],\n",
       "       [nan, 1.4],\n",
       "       [nan, 1.4],\n",
       "       [nan, 1.4],\n",
       "       [nan, 1.4],\n",
       "       [nan, 1.5],\n",
       "       [nan, 1.5],\n",
       "       [nan, 1.5],\n",
       "       [nan, 1.5],\n",
       "       [nan, 1.5],\n",
       "       [nan, 1.6],\n",
       "       [nan, 1.6],\n",
       "       [nan, 1.6],\n",
       "       [nan, 1.6],\n",
       "       [nan, 1.6],\n",
       "       [nan, 1.6],\n",
       "       [nan, 1.6],\n",
       "       [nan, 1.6],\n",
       "       [nan, 1.6],\n",
       "       [nan, 1.6],\n",
       "       [nan, 1.6],\n",
       "       [nan, 1.7],\n",
       "       [nan, 1.6],\n",
       "       [nan, 1.6],\n",
       "       [nan, 1.6],\n",
       "       [nan, 1.7],\n",
       "       [nan, 1.7],\n",
       "       [nan, 1.7],\n",
       "       [nan, 1.7],\n",
       "       [nan, 1.7],\n",
       "       [nan, 1.7],\n",
       "       [nan, 1.8],\n",
       "       [nan, 1.7],\n",
       "       [nan, 1.6],\n",
       "       [nan, 1.6],\n",
       "       [nan, 1.6],\n",
       "       [nan, 1.6],\n",
       "       [nan, 1.6],\n",
       "       [nan, 1.6],\n",
       "       [nan, 1.6],\n",
       "       [nan, 1.6],\n",
       "       [nan, 1.6],\n",
       "       [nan, 1.7],\n",
       "       [nan, 1.6],\n",
       "       [nan, 1.6],\n",
       "       [nan, 1.6],\n",
       "       [nan, 1.7],\n",
       "       [nan, 1.7],\n",
       "       [nan, 1.7],\n",
       "       [nan, 1.8],\n",
       "       [nan, 1.8],\n",
       "       [nan, 1.9],\n",
       "       [nan, 1.9],\n",
       "       [nan, 1.9],\n",
       "       [nan, 1.9],\n",
       "       [nan, 1.9],\n",
       "       [nan, 1.9],\n",
       "       [nan, 1.9],\n",
       "       [nan, 1.9],\n",
       "       [nan, 1.9],\n",
       "       [nan, 1.9],\n",
       "       [nan, 1.9],\n",
       "       [nan, 1.9],\n",
       "       [nan, 1.9],\n",
       "       [nan, 1.9],\n",
       "       [nan, 1.9],\n",
       "       [nan, 1.9],\n",
       "       [nan, 1.9],\n",
       "       [nan, 1.9],\n",
       "       [nan, 1.9],\n",
       "       [nan, 1.9],\n",
       "       [nan, 1.8],\n",
       "       [nan, 1.8],\n",
       "       [nan, 1.8],\n",
       "       [nan, 1.8],\n",
       "       [nan, 1.8],\n",
       "       [nan, 1.8],\n",
       "       [nan, 1.7],\n",
       "       [nan, 1.7],\n",
       "       [nan, 1.7],\n",
       "       [nan, 1.6],\n",
       "       [nan, 1.6],\n",
       "       [nan, 1.6],\n",
       "       [nan, 1.6],\n",
       "       [nan, 1.6],\n",
       "       [nan, 1.6],\n",
       "       [nan, 1.6],\n",
       "       [nan, 1.6],\n",
       "       [nan, 1.6],\n",
       "       [nan, 1.6],\n",
       "       [nan, 1.7],\n",
       "       [nan, 1.7],\n",
       "       [nan, 1.8],\n",
       "       [nan, 1.8],\n",
       "       [nan, 1.8],\n",
       "       [nan, 1.9],\n",
       "       [nan, 1.9],\n",
       "       [nan, 1.9],\n",
       "       [nan, 1.9],\n",
       "       [nan, 1.9],\n",
       "       [nan, 1.9],\n",
       "       [nan, 1.9],\n",
       "       [nan, 1.9],\n",
       "       [nan, 1.9],\n",
       "       [nan, 1.9],\n",
       "       [nan, 1.9],\n",
       "       [nan, 1.9],\n",
       "       [nan, 1.9],\n",
       "       [nan, 1.9],\n",
       "       [nan, 1.9],\n",
       "       [nan, 1.9],\n",
       "       [nan, 1.9],\n",
       "       [nan, 1.9],\n",
       "       [nan, 1.9],\n",
       "       [nan, 1.9],\n",
       "       [nan, 1.9],\n",
       "       [nan, 2. ],\n",
       "       [nan, 2. ],\n",
       "       [nan, 1.9],\n",
       "       [nan, 1.9],\n",
       "       [nan, 2. ],\n",
       "       [nan, 2.1],\n",
       "       [nan, 2.1],\n",
       "       [nan, 2.1],\n",
       "       [nan, 2.2],\n",
       "       [nan, 2.3],\n",
       "       [nan, 2.4],\n",
       "       [nan, 2.4],\n",
       "       [nan, 2.4],\n",
       "       [nan, 2.4],\n",
       "       [nan, 2.4],\n",
       "       [nan, 2.3],\n",
       "       [nan, 2.3],\n",
       "       [nan, 2.3],\n",
       "       [nan, 2.4],\n",
       "       [nan, 2.3],\n",
       "       [nan, 2.3],\n",
       "       [nan, 2.2],\n",
       "       [nan, 2.2],\n",
       "       [nan, 2.2],\n",
       "       [nan, 2.1],\n",
       "       [nan, 2.1],\n",
       "       [nan, 2. ],\n",
       "       [nan, 2. ],\n",
       "       [nan, 2.1],\n",
       "       [nan, 2.1],\n",
       "       [nan, 2. ],\n",
       "       [nan, 1.9],\n",
       "       [nan, 1.9],\n",
       "       [nan, 1.9],\n",
       "       [nan, 1.8],\n",
       "       [nan, 1.9],\n",
       "       [nan, 1.9],\n",
       "       [nan, 1.9],\n",
       "       [nan, 1.9],\n",
       "       [nan, 1.8],\n",
       "       [nan, 1.8],\n",
       "       [nan, 1.8],\n",
       "       [nan, 1.8],\n",
       "       [nan, 1.8],\n",
       "       [nan, 1.7],\n",
       "       [nan, 1.7],\n",
       "       [nan, 1.7],\n",
       "       [nan, 1.6],\n",
       "       [nan, 1.5],\n",
       "       [nan, 1.4],\n",
       "       [nan, 1.4],\n",
       "       [nan, 1.4],\n",
       "       [nan, 1.4],\n",
       "       [nan, 1.4],\n",
       "       [nan, 1.4],\n",
       "       [nan, 1.4],\n",
       "       [nan, 1.4],\n",
       "       [nan, 1.4],\n",
       "       [nan, 1.4],\n",
       "       [nan, 1.4],\n",
       "       [nan, 1.4],\n",
       "       [nan, 1.3],\n",
       "       [nan, 1.3],\n",
       "       [nan, 1.3],\n",
       "       [nan, 1.2],\n",
       "       [nan, 1.2],\n",
       "       [nan, 1.2],\n",
       "       [nan, 1.2],\n",
       "       [nan, 1.2],\n",
       "       [nan, 1.2],\n",
       "       [nan, 1.3],\n",
       "       [nan, 1.2],\n",
       "       [nan, 1.2],\n",
       "       [nan, 1.2],\n",
       "       [nan, 1.2],\n",
       "       [nan, 1.2],\n",
       "       [nan, 1.2],\n",
       "       [nan, 1.2],\n",
       "       [nan, 1.2],\n",
       "       [nan, 1.2],\n",
       "       [nan, 1.2],\n",
       "       [nan, 1.2],\n",
       "       [nan, 1.2],\n",
       "       [nan, 1.1],\n",
       "       [nan, 1.1],\n",
       "       [nan, 1.1],\n",
       "       [nan, 1.1],\n",
       "       [nan, 1.1],\n",
       "       [nan, 1.1],\n",
       "       [nan, 1.1],\n",
       "       [nan, 1.1],\n",
       "       [nan, 1.1],\n",
       "       [nan, 1.1],\n",
       "       [nan, 1.1],\n",
       "       [nan, 1.1],\n",
       "       [nan, 1.1],\n",
       "       [nan, 1.1],\n",
       "       [nan, 1. ],\n",
       "       [nan, 1. ],\n",
       "       [nan, 1.1],\n",
       "       [nan, 1.1],\n",
       "       [nan, 1. ],\n",
       "       [nan, 1.1],\n",
       "       [nan, 1. ],\n",
       "       [nan, 1. ],\n",
       "       [nan, 1. ],\n",
       "       [nan, 1.1],\n",
       "       [nan, 1.1],\n",
       "       [nan, 1.1]])"
      ]
     },
     "execution_count": 112,
     "metadata": {},
     "output_type": "execute_result"
    }
   ],
   "source": [
    "Temperature"
   ]
  },
  {
   "cell_type": "code",
   "execution_count": 180,
   "metadata": {},
   "outputs": [
    {
     "data": {
      "image/png": "[encoded data removed]",
      "text/plain": [
       "<Figure size 432x288 with 1 Axes>"
      ]
     },
     "metadata": {
      "needs_background": "light"
     },
     "output_type": "display_data"
    }
   ],
   "source": [
    "plt.plot(Temperature[1:,1])\n",
    "plt.show()"
   ]
  },
  {
   "cell_type": "markdown",
   "metadata": {},
   "source": [
    "## <a href=\"https://en.wikipedia.org/wiki/Iris_flower_data_set\">Iris data set</a> (data sets not yet ;) )"
   ]
  },
  {
   "cell_type": "code",
   "execution_count": 69,
   "metadata": {},
   "outputs": [
    {
     "name": "stdout",
     "output_type": "stream",
     "text": [
      "<class 'numpy.ndarray'>\n",
      "(150, 4)\n"
     ]
    }
   ],
   "source": [
    "from sklearn.datasets import load_iris\n",
    "iris=load_iris()\n",
    "IrisData=iris['data']\n",
    "IrisTarget=iris['target']\n",
    "print(type(IrisData))\n",
    "print(IrisData.shape)"
   ]
  },
  {
   "cell_type": "code",
   "execution_count": 145,
   "metadata": {},
   "outputs": [
    {
     "data": {
      "image/png": "[encoded data removed]",
      "text/plain": [
       "<Figure size 432x288 with 1 Axes>"
      ]
     },
     "metadata": {
      "needs_background": "light"
     },
     "output_type": "display_data"
    }
   ],
   "source": [
    "# just the boxplots for 4 columns:\n",
    "plt.boxplot(IrisData)#,labels=IrisTarget)\n",
    "plt.show()"
   ]
  },
  {
   "cell_type": "code",
   "execution_count": 72,
   "metadata": {},
   "outputs": [
    {
     "data": {
      "image/png": "[encoded data removed]",
      "text/plain": [
       "<Figure size 432x288 with 1 Axes>"
      ]
     },
     "metadata": {
      "needs_background": "light"
     },
     "output_type": "display_data"
    }
   ],
   "source": [
    "# will do it better later ;)\n",
    "I0=IrisData[:,3]\n",
    "I0=[I0[IrisTarget==0],I0[IrisTarget==1],I0[IrisTarget==2]]\n",
    "plt.boxplot(I0)\n",
    "plt.show()"
   ]
  },
  {
   "cell_type": "code",
   "execution_count": 75,
   "metadata": {},
   "outputs": [
    {
     "data": {
      "image/png": "[encoded data removed]",
      "text/plain": [
       "<Figure size 432x288 with 1 Axes>"
      ]
     },
     "metadata": {
      "needs_background": "light"
     },
     "output_type": "display_data"
    }
   ],
   "source": [
    "plt.scatter(IrisData[:,0],IrisData[:,2],c=IrisTarget)\n",
    "plt.show()"
   ]
  },
  {
   "cell_type": "code",
   "execution_count": 79,
   "metadata": {},
   "outputs": [
    {
     "data": {
      "image/png": "[encoded data removed]",
      "text/plain": [
       "<Figure size 432x288 with 1 Axes>"
      ]
     },
     "metadata": {
      "needs_background": "light"
     },
     "output_type": "display_data"
    }
   ],
   "source": [
    "plt.hist(IrisData[:,0],bins=5)\n",
    "plt.show()"
   ]
  },
  {
   "cell_type": "markdown",
   "metadata": {},
   "source": [
    "### We will try to use that plots to select variables to distinguish between groups, e.g. decide, if person is healthy or not"
   ]
  },
  {
   "cell_type": "markdown",
   "metadata": {},
   "source": [
    "# Exercises"
   ]
  },
  {
   "cell_type": "markdown",
   "metadata": {},
   "source": [
    "## 1. Toss a coin 100 times\n",
    "Simulate tossing a coin 100 times,<br>\n",
    "a) try to calculate, how many heads you have.<br>\n",
    "b) repeat that process 150 times and try to calculate the probability of having 5 heads in a row<br>\n",
    "\n"
   ]
  },
  {
   "cell_type": "markdown",
   "metadata": {},
   "source": [
    "## 2. One-dimensional random walk\n",
    "Simulate one dimensional random walk with probability p of going right and 1-p of going left (t steps),<br>\n",
    "a) plot the random walk for t=150,<br>\n",
    "b) repeat it 100 times for p=0.5 and try to calculate the probability that starting point will be visited again.<br>"
   ]
  },
  {
   "cell_type": "markdown",
   "metadata": {},
   "source": [
    "## 3. Two-dimensional random walk\n",
    "Simulate two dimensional random walk with probability 0.25 of going right, 0.25 left, 0.25 up and 0.25 down (t steps),<br>\n",
    "a) plot the random walk for t=150,<br>\n",
    "b) repeat it 100 times and try to calculate the probability that starting point will be visited again.<br>"
   ]
  },
  {
   "cell_type": "code",
   "execution_count": 2,
   "metadata": {},
   "outputs": [
    {
     "name": "stdout",
     "output_type": "stream",
     "text": [
      "50\n"
     ]
    }
   ],
   "source": [
    "import numpy as np\n",
    "\n",
    "##(1-a)\n",
    "head_count  = np.random.random(100)\n",
    "print(sum(head_count[0:100]<0.5))"
   ]
  },
  {
   "cell_type": "code",
   "execution_count": 3,
   "metadata": {},
   "outputs": [
    {
     "name": "stdout",
     "output_type": "stream",
     "text": [
      "122\n"
     ]
    }
   ],
   "source": [
    "##(1-b)\n",
    "tok = [True,True,True,True,True]\n",
    "count = 0\n",
    "tok = str(tok).strip('[]')\n",
    "for i in range(150):\n",
    "    x = np.random.random(100)\n",
    "    x_ = list(x[0:100]<0.5)\n",
    "    x_ = str(x_).strip('[]')\n",
    "    if(tok in x_):\n",
    "        count+=1\n",
    "print(count)"
   ]
  },
  {
   "cell_type": "code",
   "execution_count": null,
   "metadata": {},
   "outputs": [],
   "source": [
    "##(2-a)\n"
   ]
  }
 ],
 "metadata": {
  "kernelspec": {
   "display_name": "Python 3",
   "language": "python",
   "name": "python3"
  },
  "language_info": {
   "codemirror_mode": {
    "name": "ipython",
    "version": 3
   },
   "file_extension": ".py",
   "mimetype": "text/x-python",
   "name": "python",
   "nbconvert_exporter": "python",
   "pygments_lexer": "ipython3",
   "version": "3.7.3"
  }
 },
 "nbformat": 4,
 "nbformat_minor": 2
}
