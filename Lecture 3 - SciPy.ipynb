{
 "cells": [
  {
   "cell_type": "markdown",
   "metadata": {},
   "source": [
    "<h1><a href=\"https://docs.scipy.org/doc/\">SciPy</a></h1>"
   ]
  },
  {
   "cell_type": "markdown",
   "metadata": {},
   "source": [
    "## Integration\n",
    "$$\\int\\limits_a^b f(x)dx = \\int\\limits_0^\\pi \\sin(x)dx$$"
   ]
  },
  {
   "cell_type": "code",
   "execution_count": 2,
   "metadata": {},
   "outputs": [
    {
     "data": {
      "text/plain": [
       "(2.0, 2.220446049250313e-14)"
      ]
     },
     "execution_count": 2,
     "metadata": {},
     "output_type": "execute_result"
    }
   ],
   "source": [
    "import scipy.integrate as integrate\n",
    "import numpy as np\n",
    "result = integrate.quad(lambda x: np.sin(x), 0, np.pi)\n",
    "result"
   ]
  },
  {
   "cell_type": "code",
   "execution_count": 3,
   "metadata": {},
   "outputs": [
    {
     "data": {
      "text/plain": [
       "2.000000000001321"
      ]
     },
     "execution_count": 3,
     "metadata": {},
     "output_type": "execute_result"
    }
   ],
   "source": [
    "import scipy.integrate as integrate\n",
    "result = integrate.romberg(lambda x: np.sin(x), 0, np.pi)\n",
    "result"
   ]
  },
  {
   "cell_type": "code",
   "execution_count": 25,
   "metadata": {},
   "outputs": [
    {
     "name": "stdout",
     "output_type": "stream",
     "text": [
      "Help on function romberg in module scipy.integrate.quadrature:\n",
      "\n",
      "romberg(function, a, b, args=(), tol=1.48e-08, rtol=1.48e-08, show=False, divmax=10, vec_func=False)\n",
      "    Romberg integration of a callable function or method.\n",
      "    \n",
      "    Returns the integral of `function` (a function of one variable)\n",
      "    over the interval (`a`, `b`).\n",
      "    \n",
      "    If `show` is 1, the triangular array of the intermediate results\n",
      "    will be printed.  If `vec_func` is True (default is False), then\n",
      "    `function` is assumed to support vector arguments.\n",
      "    \n",
      "    Parameters\n",
      "    ----------\n",
      "    function : callable\n",
      "        Function to be integrated.\n",
      "    a : float\n",
      "        Lower limit of integration.\n",
      "    b : float\n",
      "        Upper limit of integration.\n",
      "    \n",
      "    Returns\n",
      "    -------\n",
      "    results  : float\n",
      "        Result of the integration.\n",
      "    \n",
      "    Other Parameters\n",
      "    ----------------\n",
      "    args : tuple, optional\n",
      "        Extra arguments to pass to function. Each element of `args` will\n",
      "        be passed as a single argument to `func`. Default is to pass no\n",
      "        extra arguments.\n",
      "    tol, rtol : float, optional\n",
      "        The desired absolute and relative tolerances. Defaults are 1.48e-8.\n",
      "    show : bool, optional\n",
      "        Whether to print the results. Default is False.\n",
      "    divmax : int, optional\n",
      "        Maximum order of extrapolation. Default is 10.\n",
      "    vec_func : bool, optional\n",
      "        Whether `func` handles arrays as arguments (i.e whether it is a\n",
      "        \"vector\" function). Default is False.\n",
      "    \n",
      "    See Also\n",
      "    --------\n",
      "    fixed_quad : Fixed-order Gaussian quadrature.\n",
      "    quad : Adaptive quadrature using QUADPACK.\n",
      "    dblquad : Double integrals.\n",
      "    tplquad : Triple integrals.\n",
      "    romb : Integrators for sampled data.\n",
      "    simps : Integrators for sampled data.\n",
      "    cumtrapz : Cumulative integration for sampled data.\n",
      "    ode : ODE integrator.\n",
      "    odeint : ODE integrator.\n",
      "    \n",
      "    References\n",
      "    ----------\n",
      "    .. [1] 'Romberg's method' https://en.wikipedia.org/wiki/Romberg%27s_method\n",
      "    \n",
      "    Examples\n",
      "    --------\n",
      "    Integrate a gaussian from 0 to 1 and compare to the error function.\n",
      "    \n",
      "    >>> from scipy import integrate\n",
      "    >>> from scipy.special import erf\n",
      "    >>> gaussian = lambda x: 1/np.sqrt(np.pi) * np.exp(-x**2)\n",
      "    >>> result = integrate.romberg(gaussian, 0, 1, show=True)\n",
      "    Romberg integration of <function vfunc at ...> from [0, 1]\n",
      "    \n",
      "    ::\n",
      "    \n",
      "       Steps  StepSize  Results\n",
      "           1  1.000000  0.385872\n",
      "           2  0.500000  0.412631  0.421551\n",
      "           4  0.250000  0.419184  0.421368  0.421356\n",
      "           8  0.125000  0.420810  0.421352  0.421350  0.421350\n",
      "          16  0.062500  0.421215  0.421350  0.421350  0.421350  0.421350\n",
      "          32  0.031250  0.421317  0.421350  0.421350  0.421350  0.421350  0.421350\n",
      "    \n",
      "    The final result is 0.421350396475 after 33 function evaluations.\n",
      "    \n",
      "    >>> print(\"%g %g\" % (2*result, erf(1)))\n",
      "    0.842701 0.842701\n",
      "\n"
     ]
    }
   ],
   "source": [
    "help(integrate.romberg)"
   ]
  },
  {
   "cell_type": "markdown",
   "metadata": {},
   "source": [
    "$$\\int\\limits_0^\\infty e^{-2x}dx$$"
   ]
  },
  {
   "cell_type": "code",
   "execution_count": 40,
   "metadata": {},
   "outputs": [
    {
     "data": {
      "text/plain": [
       "(0.5, 7.735031684717554e-11)"
      ]
     },
     "execution_count": 40,
     "metadata": {},
     "output_type": "execute_result"
    }
   ],
   "source": [
    "integrate.quad(lambda x:np.exp(-2*x), 0, np.inf)"
   ]
  },
  {
   "cell_type": "markdown",
   "metadata": {},
   "source": [
    "$$\\int\\limits_0^2\\int\\limits_0^{\\frac{x}{2}} dy dx$$"
   ]
  },
  {
   "cell_type": "code",
   "execution_count": 5,
   "metadata": {},
   "outputs": [
    {
     "data": {
      "text/plain": [
       "(1.0, 1.1102230246251565e-14)"
      ]
     },
     "execution_count": 5,
     "metadata": {},
     "output_type": "execute_result"
    }
   ],
   "source": [
    "integrate.dblquad(lambda x, y: 1, 0, 2, 0, lambda x: x/2)"
   ]
  },
  {
   "cell_type": "markdown",
   "metadata": {},
   "source": [
    "$$\\int\\limits_0^\\infty\\int\\limits_1^\\infty \\frac{e^{-xt}}{t^4}dt dx$$"
   ]
  },
  {
   "cell_type": "code",
   "execution_count": 6,
   "metadata": {},
   "outputs": [
    {
     "data": {
      "text/plain": [
       "(0.2500000000043577, 1.29830334693681e-08)"
      ]
     },
     "execution_count": 6,
     "metadata": {},
     "output_type": "execute_result"
    }
   ],
   "source": [
    "from scipy import integrate\n",
    "def f(t, x):\n",
    "   return np.exp(-x*t) / t**4\n",
    "\n",
    "integrate.nquad(f, [[1, np.inf],[0, np.inf]])"
   ]
  },
  {
   "cell_type": "code",
   "execution_count": 7,
   "metadata": {},
   "outputs": [
    {
     "data": {
      "text/plain": [
       "(0.2500000000043577, 1.29830334693681e-08)"
      ]
     },
     "execution_count": 7,
     "metadata": {},
     "output_type": "execute_result"
    }
   ],
   "source": [
    "integrate.nquad(lambda t,x: np.exp(-x*t)/t**4, [[1,np.inf],[0,np.inf]])"
   ]
  },
  {
   "cell_type": "code",
   "execution_count": 8,
   "metadata": {},
   "outputs": [
    {
     "data": {
      "text/plain": [
       "(0.2500000000043577, 1.29830334693681e-08)"
      ]
     },
     "execution_count": 8,
     "metadata": {},
     "output_type": "execute_result"
    }
   ],
   "source": [
    "integrate.dblquad(lambda t,x: np.exp(-x*t)/t**4, 0, np.inf, 1, np.inf)"
   ]
  },
  {
   "cell_type": "markdown",
   "metadata": {},
   "source": [
    "$$\\left\\{\\begin{array}[l]\\\\\n",
    "  \\frac{dy}{dt}=-0.5y\\\\\n",
    "  y(0)=2\\\\\n",
    "\\end{array}\\right.$$"
   ]
  },
  {
   "cell_type": "code",
   "execution_count": 11,
   "metadata": {},
   "outputs": [
    {
     "name": "stdout",
     "output_type": "stream",
     "text": [
      "[ 0.          0.11488132  1.26369452  3.06074656  4.85779859  6.65485062\n",
      "  8.45190266 10.        ]\n",
      "[[2.         1.88835583 1.0632438  0.43316531 0.17647146 0.07189444\n",
      "  0.02928978 0.01350939]]\n"
     ]
    },
    {
     "data": {
      "image/png": "[encoded data removed]",
      "text/plain": [
       "<Figure size 432x288 with 1 Axes>"
      ]
     },
     "metadata": {
      "needs_background": "light"
     },
     "output_type": "display_data"
    }
   ],
   "source": [
    "from scipy.integrate import solve_ivp\n",
    "import matplotlib.pyplot as plt\n",
    "sol = solve_ivp(lambda t,y: -0.5*y, [0, 10], [2])\n",
    "print(sol.t)\n",
    "print(sol.y)\n",
    "plt.plot(sol.t,sol.y[0])\n",
    "plt.show()"
   ]
  },
  {
   "cell_type": "markdown",
   "metadata": {},
   "source": [
    "<h1><a href=\"https://en.wikipedia.org/wiki/Lorenz_system\">Lorenz system</a></h1>"
   ]
  },
  {
   "cell_type": "markdown",
   "metadata": {},
   "source": [
    "$$\\left\\{\\begin{array}[l]\\\\\n",
    "\\frac{dx}{dt}=\\sigma(y-x)\\\\\n",
    "\\frac{dy}{dt}=x(\\rho-z)-y\\\\\n",
    "\\frac{dz}{dt}=xy-\\beta z\\end{array}\\right.$$"
   ]
  },
  {
   "cell_type": "code",
   "execution_count": 12,
   "metadata": {},
   "outputs": [
    {
     "data": {
      "image/png": "[encoded data removed]",
      "text/plain": [
       "<Figure size 432x288 with 1 Axes>"
      ]
     },
     "metadata": {
      "needs_background": "light"
     },
     "output_type": "display_data"
    }
   ],
   "source": [
    "import numpy as np\n",
    "import matplotlib.pyplot as plt\n",
    "from scipy.integrate import odeint\n",
    "from mpl_toolkits.mplot3d import Axes3D\n",
    "\n",
    "rho = 28.0\n",
    "sigma = 10.0\n",
    "beta = 8.0 / 3.0\n",
    "\n",
    "def f(state, t):\n",
    "  x, y, z = state  # unpack the state vector\n",
    "  return sigma * (y - x), x * (rho - z) - y, x * y - beta * z  # derivatives\n",
    "\n",
    "state0 = [1.0, 1.0, 1.0]\n",
    "t = np.arange(0.0, 40.0, 0.01)\n",
    "\n",
    "states = odeint(f, state0, t)\n",
    "\n",
    "fig = plt.figure()\n",
    "ax = fig.gca(projection='3d')\n",
    "ax.plot(states[:,0], states[:,1], states[:,2])\n",
    "plt.show()"
   ]
  },
  {
   "cell_type": "markdown",
   "metadata": {},
   "source": [
    "# Linear algebra"
   ]
  },
  {
   "cell_type": "code",
   "execution_count": 13,
   "metadata": {},
   "outputs": [
    {
     "name": "stdout",
     "output_type": "stream",
     "text": [
      "[[1 2]\n",
      " [3 4]]\n",
      "[[-2.   1. ]\n",
      " [ 1.5 -0.5]]\n",
      "[[1.0000000e+00 0.0000000e+00]\n",
      " [8.8817842e-16 1.0000000e+00]]\n"
     ]
    }
   ],
   "source": [
    "import numpy as np\n",
    "from scipy import linalg\n",
    "A = np.array([[1,2],[3,4]])\n",
    "print(A)\n",
    "\n",
    "print(linalg.inv(A)) # inversion\n",
    "#check:\n",
    "print(A.dot(linalg.inv(A)))"
   ]
  },
  {
   "cell_type": "code",
   "execution_count": 14,
   "metadata": {},
   "outputs": [
    {
     "name": "stdout",
     "output_type": "stream",
     "text": [
      "[[5]\n",
      " [6]]\n",
      "[[5 6]]\n"
     ]
    }
   ],
   "source": [
    "b = np.array([[5,6]]) #2D array\n",
    "b\n",
    "\n",
    "print(b.T) # transposition\n",
    "print(b)"
   ]
  },
  {
   "cell_type": "code",
   "execution_count": 15,
   "metadata": {},
   "outputs": [
    {
     "name": "stdout",
     "output_type": "stream",
     "text": [
      "[[1 2]\n",
      " [3 4]]\n",
      "[[5 6]]\n",
      "[[ 5 12]\n",
      " [15 24]]\n"
     ]
    }
   ],
   "source": [
    "print(A)\n",
    "print(b)\n",
    "print(A*b) #not matrix multiplication!"
   ]
  },
  {
   "cell_type": "code",
   "execution_count": 16,
   "metadata": {},
   "outputs": [
    {
     "name": "stdout",
     "output_type": "stream",
     "text": [
      "[[17]\n",
      " [39]]\n"
     ]
    }
   ],
   "source": [
    "print(A.dot(b.T)) #matrix multiplication"
   ]
  },
  {
   "cell_type": "code",
   "execution_count": 17,
   "metadata": {},
   "outputs": [
    {
     "name": "stdout",
     "output_type": "stream",
     "text": [
      "[[1 2]\n",
      " [3 4]]\n",
      "[[5 6]]\n"
     ]
    },
    {
     "ename": "ValueError",
     "evalue": "shapes (2,2) and (1,2) not aligned: 2 (dim 1) != 1 (dim 0)",
     "output_type": "error",
     "traceback": [
      "\u001b[1;31m---------------------------------------------------------------------------\u001b[0m",
      "\u001b[1;31mValueError\u001b[0m                                Traceback (most recent call last)",
      "\u001b[1;32m<ipython-input-17-48c8719b1645>\u001b[0m in \u001b[0;36m<module>\u001b[1;34m\u001b[0m\n\u001b[0;32m      2\u001b[0m \u001b[0mprint\u001b[0m\u001b[1;33m(\u001b[0m\u001b[0mb\u001b[0m\u001b[1;33m)\u001b[0m\u001b[1;33m\u001b[0m\u001b[1;33m\u001b[0m\u001b[0m\n\u001b[0;32m      3\u001b[0m \u001b[1;33m\u001b[0m\u001b[0m\n\u001b[1;32m----> 4\u001b[1;33m \u001b[0mprint\u001b[0m\u001b[1;33m(\u001b[0m\u001b[0mA\u001b[0m\u001b[1;33m.\u001b[0m\u001b[0mdot\u001b[0m\u001b[1;33m(\u001b[0m\u001b[0mb\u001b[0m\u001b[1;33m)\u001b[0m\u001b[1;33m)\u001b[0m  \u001b[1;31m#impossible\u001b[0m\u001b[1;33m\u001b[0m\u001b[1;33m\u001b[0m\u001b[0m\n\u001b[0m",
      "\u001b[1;31mValueError\u001b[0m: shapes (2,2) and (1,2) not aligned: 2 (dim 1) != 1 (dim 0)"
     ]
    }
   ],
   "source": [
    "print(A)\n",
    "print(b)\n",
    "\n",
    "print(A.dot(b))  #impossible"
   ]
  },
  {
   "cell_type": "code",
   "execution_count": 18,
   "metadata": {},
   "outputs": [
    {
     "name": "stdout",
     "output_type": "stream",
     "text": [
      "[[1 2]\n",
      " [3 4]]\n",
      "det(A) = -2.0\n"
     ]
    }
   ],
   "source": [
    "import numpy as np\n",
    "from scipy import linalg\n",
    "A = np.array([[1,2],[3,4]])\n",
    "print(A)\n",
    "print(\"det(A) =\",linalg.det(A))"
   ]
  },
  {
   "cell_type": "markdown",
   "metadata": {},
   "source": [
    "# Exercises"
   ]
  },
  {
   "cell_type": "code",
   "execution_count": 52,
   "metadata": {},
   "outputs": [],
   "source": [
    "import scipy.integrate as integrate\n",
    "import numpy as np\n",
    "import matplotlib.pyplot as plt\n",
    "from scipy.optimize import fsolve as fsolve"
   ]
  },
  {
   "cell_type": "markdown",
   "metadata": {},
   "source": [
    "## 1. Plot functions $f(x)=2x+3$ and $g(x)=x^2$. Calculate the area between them.\n"
   ]
  },
  {
   "cell_type": "code",
   "execution_count": 54,
   "metadata": {},
   "outputs": [
    {
     "data": {
      "image/png": "[encoded data removed]",
      "text/plain": [
       "<Figure size 432x288 with 1 Axes>"
      ]
     },
     "metadata": {
      "needs_background": "light"
     },
     "output_type": "display_data"
    },
    {
     "name": "stdout",
     "output_type": "stream",
     "text": [
      "[-1.  3.]\n",
      "10.666666666666664\n"
     ]
    }
   ],
   "source": [
    "\n",
    "x = np.linspace(-5,5)\n",
    "f= 2 * x + 3\n",
    "g = x * x\n",
    "plt.plot(x,f)\n",
    "plt.plot(x,g)\n",
    "plt.fill_between(x, g,f, color='green', alpha=0.2)\n",
    "plt.show()\n",
    "\n",
    "x = fsolve(lambda x: ((2 * x) + 3) - (x * x),[-5,5])\n",
    "result = integrate.romberg(lambda x: ((2 * x) + 3) - (x * x), x[0], x[1])\n",
    "print (x)\n",
    "print(result)"
   ]
  },
  {
   "cell_type": "markdown",
   "metadata": {},
   "source": [
    "## 3. Solve the problem:\n",
    "Bruce goes to shop and bought 1 bread, 2 bottles of milk and apple juice and paid 17 PLN. Next day in the same shop he paid 16 PLN for 2 breads, 1 bottle of milk and apple juice. Third day in that shop he bought 1 bread and 2 apple juices and paid 10 PLN. What was the prices of bread, milk and apple juice in that shop? Be lazy: let python calculate it for you."
   ]
  },
  {
   "cell_type": "code",
   "execution_count": 58,
   "metadata": {},
   "outputs": [
    {
     "name": "stdout",
     "output_type": "stream",
     "text": [
      "[4. 5. 3.]\n"
     ]
    }
   ],
   "source": [
    "X = np.array([[1,2,1],[2,1,1],[1,0,2]])\n",
    "Y = np.array([17,16,10])\n",
    "result = np.linalg.solve(X,Y)\n",
    "print(result)"
   ]
  },
  {
   "cell_type": "markdown",
   "metadata": {},
   "source": [
    "<h2>4. <a href=\"https://en.wikipedia.org/wiki/Van_der_Pol_oscillator\">Van der Pol oscilator</a></h2>"
   ]
  },
  {
   "cell_type": "markdown",
   "metadata": {},
   "source": [
    "  $$ \\left\\{\\begin{array}[l]\\\\\n",
    "  \\frac{dx}{dt} = y\\\\\n",
    "    {{\\frac{dy}{dt}}=\\mu (1-x^{2})y-x.}\\end{array}\\right.$$\n",
    "    $$(x(0),y(0))=(0,1)$$\n",
    "    Take $\\mu=1$"
   ]
  },
  {
   "cell_type": "code",
   "execution_count": 57,
   "metadata": {},
   "outputs": [
    {
     "data": {
      "image/png": "[encoded data removed]",
      "text/plain": [
       "<Figure size 432x288 with 1 Axes>"
      ]
     },
     "metadata": {
      "needs_background": "light"
     },
     "output_type": "display_data"
    }
   ],
   "source": [
    "import numpy as np\n",
    "import matplotlib.pyplot as plt\n",
    "from scipy.integrate import odeint\n",
    "\n",
    "mu = 1\n",
    "\n",
    "def van_der_pol_oscillator_deriv(x, t):\n",
    "    nx0 = x[1]\n",
    "    nx1 = -mu * (x[0] ** 2.0 - 1.0) * x[1] - x[0]\n",
    "    res = np.array([nx0, nx1])\n",
    "    return res\n",
    "\n",
    "ts = np.linspace(0.0, 50.0, 500)\n",
    "\n",
    "xs = odeint(van_der_pol_oscillator_deriv, [0.2, 0.2], ts)\n",
    "plt.plot(xs[:,0], xs[:,1])\n",
    "xs = odeint(van_der_pol_oscillator_deriv, [-3.0, -3.0], ts)\n",
    "plt.plot(xs[:,0], xs[:,1])\n",
    "xs = odeint(van_der_pol_oscillator_deriv, [4.0, 4.0], ts)\n",
    "plt.plot(xs[:,0], xs[:,1])\n",
    "plt.gca().set_aspect('equal')\n",
    "plt.show()"
   ]
  },
  {
   "cell_type": "markdown",
   "metadata": {},
   "source": [
    "<h2>7/11</h2>"
   ]
  },
  {
   "cell_type": "code",
   "execution_count": 80,
   "metadata": {},
   "outputs": [
    {
     "name": "stdout",
     "output_type": "stream",
     "text": [
      "0.353\n"
     ]
    }
   ],
   "source": [
    "count = 0\n",
    "for i in range(1000):\n",
    "    ch = np.random.choice(13,13,replace=False)\n",
    "    if  True in (ch == range(13)):\n",
    "        count+=1\n",
    "print(1-(count/1000))\n",
    "    \n"
   ]
  },
  {
   "cell_type": "code",
   "execution_count": 84,
   "metadata": {},
   "outputs": [
    {
     "name": "stdout",
     "output_type": "stream",
     "text": [
      "0.348\n"
     ]
    }
   ],
   "source": [
    "count = 0\n",
    "for i in range(1000):\n",
    "    ch = np.random.choice(13,13,replace=False)\n",
    "    if (ch == range(13)).any():\n",
    "        count+=1\n",
    "print(1-(count/1000))"
   ]
  },
  {
   "cell_type": "code",
   "execution_count": null,
   "metadata": {},
   "outputs": [],
   "source": []
  }
 ],
 "metadata": {
  "kernelspec": {
   "display_name": "Python 3",
   "language": "python",
   "name": "python3"
  },
  "language_info": {
   "codemirror_mode": {
    "name": "ipython",
    "version": 3
   },
   "file_extension": ".py",
   "mimetype": "text/x-python",
   "name": "python",
   "nbconvert_exporter": "python",
   "pygments_lexer": "ipython3",
   "version": "3.7.3"
  }
 },
 "nbformat": 4,
 "nbformat_minor": 2
}
